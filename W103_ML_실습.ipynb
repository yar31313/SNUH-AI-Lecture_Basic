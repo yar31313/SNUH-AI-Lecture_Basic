{
  "nbformat": 4,
  "nbformat_minor": 0,
  "metadata": {
    "colab": {
      "name": "W103_ML 실습.ipynb",
      "provenance": [],
      "collapsed_sections": [],
      "include_colab_link": true
    },
    "kernelspec": {
      "name": "python3",
      "display_name": "Python 3"
    },
    "accelerator": "GPU"
  },
  "cells": [
    {
      "cell_type": "markdown",
      "metadata": {
        "id": "view-in-github",
        "colab_type": "text"
      },
      "source": [
        "<a href=\"https://colab.research.google.com/github/yar31313/SNUH-AI-Lecture_Basic/blob/main/W103_ML_%EC%8B%A4%EC%8A%B5.ipynb\" target=\"_parent\"><img src=\"https://colab.research.google.com/assets/colab-badge.svg\" alt=\"Open In Colab\"/></a>"
      ]
    },
    {
      "cell_type": "markdown",
      "metadata": {
        "id": "B3c-uPlh79YU"
      },
      "source": [
        "# ML 실습\n",
        "\n",
        "1.   데이터 불러오기\n",
        "2.   데이터 탐색 및 전처리\n",
        "3.   모델 구성\n",
        "4.   모델 훈련\n",
        "5.   모델 검증\n",
        "\n",
        "---\n"
      ]
    },
    {
      "cell_type": "code",
      "source": [
        "import tensorflow as tf\n",
        "import numpy as np\n",
        "import pandas as pd\n",
        "import matplotlib.pyplot as plt\n",
        "from tensorflow.keras.layers import Dense, Dropout\n",
        "from tensorflow.keras.models import Sequential\n",
        "from tensorflow.keras import optimizers"
      ],
      "metadata": {
        "id": "1IIdppn3y9MO"
      },
      "execution_count": null,
      "outputs": []
    },
    {
      "cell_type": "markdown",
      "metadata": {
        "id": "QPsIcLKZVfA6"
      },
      "source": [
        "##1. 데이터 불러오기"
      ]
    },
    {
      "cell_type": "code",
      "source": [
        "from tensorflow.keras.datasets import boston_housing\n",
        "# https://keras.io/api/datasets/boston_housing/#boston-housing-price-regression-dataset\n",
        "(x_train, y_train), (x_test, y_test) = boston_housing.load_data()\n",
        "label_names = ['CRIM', 'ZN', 'INDUS', 'CHAS', 'NOX', 'RM', 'AGE', 'DIS', 'RAD', 'TAX', 'PTRATIO', 'B', 'LSTAT']\n",
        "\n",
        "'''\n",
        "Variables in order:\n",
        " CRIM     per capita crime rate by town\n",
        " ZN       proportion of residential land zoned for lots over 25,000 sq.ft.\n",
        " INDUS    proportion of non-retail business acres per town\n",
        " CHAS     Charles River dummy variable (= 1 if tract bounds river; 0 otherwise)\n",
        " NOX      nitric oxides concentration (parts per 10 million)\n",
        " RM       average number of rooms per dwelling\n",
        " AGE      proportion of owner-occupied units built prior to 1940\n",
        " DIS      weighted distances to five Boston employment centres\n",
        " RAD      index of accessibility to radial highways\n",
        " TAX      full-value property-tax rate per $10,000\n",
        " PTRATIO  pupil-teacher ratio by town\n",
        " B        1000(Bk - 0.63)^2 where Bk is the proportion of blacks by town\n",
        " LSTAT    % lower status of the population\n",
        " MEDV     Median value of owner-occupied homes in $1000's\n",
        " '''\n",
        "pass"
      ],
      "metadata": {
        "id": "bHjkUTHVv4Lc"
      },
      "execution_count": null,
      "outputs": []
    },
    {
      "cell_type": "markdown",
      "source": [
        "##2. 데이터 탐색 및 전처리"
      ],
      "metadata": {
        "id": "TipYxQV6vx4F"
      }
    },
    {
      "cell_type": "code",
      "source": [
        "print('x_train :', x_train.shape, '\\ty_train :', y_train.shape)\n",
        "print('x_test :', x_test.shape, '\\ty_test :', y_test.shape)"
      ],
      "metadata": {
        "id": "ITDVAkSXv4gE"
      },
      "execution_count": null,
      "outputs": []
    },
    {
      "cell_type": "code",
      "source": [
        "# 데이터 확인\n",
        "df = pd.DataFrame(x_train)\n",
        "df.head()\n",
        "# df = pd.DataFrame(x_train, columns=label_names)\n",
        "# df.head()"
      ],
      "metadata": {
        "id": "_zdLrrsN5a7B"
      },
      "execution_count": null,
      "outputs": []
    },
    {
      "cell_type": "code",
      "source": [
        "# 결측치 확인\n",
        "df.isnull().sum()"
      ],
      "metadata": {
        "id": "wmmEkj32DRBl"
      },
      "execution_count": null,
      "outputs": []
    },
    {
      "cell_type": "code",
      "source": [
        "# 통계치 확인\n",
        "df.describe()"
      ],
      "metadata": {
        "id": "TGt4itRr7keo"
      },
      "execution_count": null,
      "outputs": []
    },
    {
      "cell_type": "code",
      "source": [
        "# 데이터 시각화\n",
        "f, ax = plt.subplots(3, 5, figsize=(25,10))\n",
        "for i in range(0,x_train.shape[1]):\n",
        "  ax[i//5][i%5].hist(x_train[:,i])\n",
        "  ax[i//5][i%5].set_title(label_names[i])\n",
        "ax[2,4].hist(y_train)\n",
        "ax[2,4].set_title(\"MEDV\")\n",
        "plt.show()"
      ],
      "metadata": {
        "id": "HJ86CmcMFCBt"
      },
      "execution_count": null,
      "outputs": []
    },
    {
      "cell_type": "code",
      "source": [
        "# 데이터 표준화\n",
        "mean = x_train.mean(axis=0)\n",
        "std = x_train.std(axis=0)\n",
        "x_train = (x_train - mean)/std\n",
        "x_test = (x_test - mean)/std\n",
        "\n",
        "pd.DataFrame(x_train, columns=label_names).describe()"
      ],
      "metadata": {
        "id": "wHhJxlne7jog"
      },
      "execution_count": null,
      "outputs": []
    },
    {
      "cell_type": "code",
      "source": [
        "# 훈련셋/검증셋 분리\n",
        "xy_train = np.column_stack((x_train,y_train))\n",
        "np.random.shuffle(xy_train)\n",
        "\n",
        "xy_val = xy_train[:int(xy_train.shape[0]/5)]\n",
        "xy_train = xy_train[int(xy_train.shape[0]/5):]\n",
        "\n",
        "print('xy_val :', xy_val.shape, '\\t\\t\\txy_train :', xy_train.shape)\n",
        "\n",
        "x_val = xy_val[:,:13]\n",
        "y_val = xy_val[:,13]\n",
        "x_train = xy_train[:,:13]\n",
        "y_train = xy_train[:,13]\n",
        "\n",
        "print('x_val :', x_val.shape, '\\ty_val :', y_val.shape, '\\tx_train :', x_train.shape, '\\ty_train :', y_train.shape)"
      ],
      "metadata": {
        "id": "TfTHN4zmHUXR"
      },
      "execution_count": null,
      "outputs": []
    },
    {
      "cell_type": "markdown",
      "source": [
        "##3. 모델 구성"
      ],
      "metadata": {
        "id": "P6ehLjXovyFc"
      }
    },
    {
      "cell_type": "code",
      "source": [
        "model = Sequential()\n",
        "model.add(Dense(64, activation='relu', input_shape=[x_train.shape[1]]))\n",
        "model.add(Dense(48, activation='relu'))\n",
        "model.add(Dense(12, activation='relu'))\n",
        "model.add(Dense(1))\n",
        "\n",
        "model.summary()"
      ],
      "metadata": {
        "id": "-wLIvXvrv4wM"
      },
      "execution_count": null,
      "outputs": []
    },
    {
      "cell_type": "code",
      "source": [
        "# example test\n",
        "model.predict(x_train[:10])"
      ],
      "metadata": {
        "id": "WvPzRYlSC4R5"
      },
      "execution_count": null,
      "outputs": []
    },
    {
      "cell_type": "markdown",
      "source": [
        "##4. 모델 훈련"
      ],
      "metadata": {
        "id": "Xl7yRTZgvyOE"
      }
    },
    {
      "cell_type": "code",
      "source": [
        "model.compile(optimizer=optimizers.RMSprop(lr=0.0005), loss='mse', metrics=['mae'])\n",
        "history = model.fit(x_train, y_train, validation_data=(x_val,y_val),epochs=50, batch_size=10)"
      ],
      "metadata": {
        "id": "EKHqIaVh2H4b"
      },
      "execution_count": null,
      "outputs": []
    },
    {
      "cell_type": "code",
      "source": [
        "pd.DataFrame(history.history).head(15)"
      ],
      "metadata": {
        "id": "WjbIbFKRGlK_"
      },
      "execution_count": null,
      "outputs": []
    },
    {
      "cell_type": "code",
      "source": [
        "pd.DataFrame(history.history)\n",
        "\n",
        "fig, ax = plt.subplots(1,2, figsize=(15,5))\n",
        "\n",
        "ax[0].plot(history.history['loss'], 'y.-', label='train loss')\n",
        "ax[0].plot(history.history['val_loss'], 'r.-', label='val loss')\n",
        "ax[0].set_xlabel('epoch')\n",
        "ax[0].set_ylabel('loss')\n",
        "ax[0].legend(loc='upper right')\n",
        "\n",
        "ax[1].plot(history.history['mae'], 'b.-', label='train mae')\n",
        "ax[1].plot(history.history['val_mae'], 'g.-', label='val mae')\n",
        "ax[1].set_xlabel('epoch')\n",
        "ax[1].set_ylabel('mae')\n",
        "ax[1].legend(loc='upper right')\n",
        "\n",
        "plt.show()"
      ],
      "metadata": {
        "id": "SsO7Ak5AFrnI"
      },
      "execution_count": null,
      "outputs": []
    },
    {
      "cell_type": "markdown",
      "source": [
        "##5. 모델 검증"
      ],
      "metadata": {
        "id": "HzaPEjX5vyfM"
      }
    },
    {
      "cell_type": "code",
      "source": [
        "# test data를 이용한 검증\n",
        "y_eval = model.evaluate(x_test, y_test)\n",
        "print(y_eval)"
      ],
      "metadata": {
        "id": "YUmXIzLzv5Tc"
      },
      "execution_count": null,
      "outputs": []
    },
    {
      "cell_type": "code",
      "source": [
        "# 예측값과 실제값 비교\n",
        "y_pred = model.predict(x_test)[:,0]\n",
        "print(y_pred.shape)\n",
        "\n",
        "plt.plot(y_test, y_pred, '.')\n",
        "plt.plot([0,y_pred.max()],[0,y_pred.max()])\n",
        "plt.xlabel('True')\n",
        "plt.ylabel('Predicted')\n",
        "plt.show()"
      ],
      "metadata": {
        "id": "qZXQBCGd9H20"
      },
      "execution_count": null,
      "outputs": []
    },
    {
      "cell_type": "code",
      "source": [
        "# 오차 히스토그램\n",
        "plt.hist(y_pred-y_test, bins=30)\n",
        "plt.xlabel('Error')\n",
        "plt.ylabel('Count')\n",
        "plt.show()"
      ],
      "metadata": {
        "id": "EDzutK-VS-xU"
      },
      "execution_count": null,
      "outputs": []
    }
  ]
}